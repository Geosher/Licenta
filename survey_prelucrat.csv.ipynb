{
 "cells": [
  {
   "cell_type": "code",
   "execution_count": 5,
   "id": "48660fd0-1658-484d-9729-80308ee9ed84",
   "metadata": {},
   "outputs": [],
   "source": [
    "import pandas as pd\n",
    "\n",
    "survey_df = pd.read_csv('survey.csv')"
   ]
  },
  {
   "cell_type": "code",
   "execution_count": 9,
   "id": "022be8f4-4371-469e-898d-2c9fadcdecb1",
   "metadata": {},
   "outputs": [
    {
     "data": {
      "text/plain": [
       "Timestamp                       0\n",
       "Age                             0\n",
       "Gender                          0\n",
       "Country                         0\n",
       "state                         515\n",
       "self_employed                  18\n",
       "family_history                  0\n",
       "treatment                       0\n",
       "work_interfere                264\n",
       "no_employees                    0\n",
       "remote_work                     0\n",
       "tech_company                    0\n",
       "benefits                        0\n",
       "care_options                    0\n",
       "wellness_program                0\n",
       "seek_help                       0\n",
       "anonymity                       0\n",
       "leave                           0\n",
       "mental_health_consequence       0\n",
       "phys_health_consequence         0\n",
       "coworkers                       0\n",
       "supervisor                      0\n",
       "mental_health_interview         0\n",
       "phys_health_interview           0\n",
       "mental_vs_physical              0\n",
       "obs_consequence                 0\n",
       "comments                     1095\n",
       "dtype: int64"
      ]
     },
     "execution_count": 9,
     "metadata": {},
     "output_type": "execute_result"
    }
   ],
   "source": [
    "survey_df.isnull().sum()"
   ]
  },
  {
   "cell_type": "code",
   "execution_count": 11,
   "id": "c42d63eb-f574-47b5-9395-1702a7f53397",
   "metadata": {},
   "outputs": [],
   "source": [
    "survey_df.drop(columns=['comments'], inplace=True)\n"
   ]
  },
  {
   "cell_type": "code",
   "execution_count": 13,
   "id": "1272e2e6-a147-4a78-abf0-8692495ff1cc",
   "metadata": {},
   "outputs": [
    {
     "name": "stderr",
     "output_type": "stream",
     "text": [
      "C:\\Users\\georg\\AppData\\Local\\Temp\\ipykernel_27608\\3150490299.py:1: FutureWarning: A value is trying to be set on a copy of a DataFrame or Series through chained assignment using an inplace method.\n",
      "The behavior will change in pandas 3.0. This inplace method will never work because the intermediate object on which we are setting values always behaves as a copy.\n",
      "\n",
      "For example, when doing 'df[col].method(value, inplace=True)', try using 'df.method({col: value}, inplace=True)' or df[col] = df[col].method(value) instead, to perform the operation inplace on the original object.\n",
      "\n",
      "\n",
      "  survey_df['state'].fillna('Unknown', inplace=True)\n"
     ]
    }
   ],
   "source": [
    "survey_df['state'].fillna('Unknown', inplace=True)\n"
   ]
  },
  {
   "cell_type": "code",
   "execution_count": 15,
   "id": "97f138f3-7c40-4d59-b074-5fde86768271",
   "metadata": {},
   "outputs": [],
   "source": [
    "us_states = ['California', 'New York', 'Texas', 'Florida', 'Illinois', 'Ohio', 'Washington', 'Georgia', 'Pennsylvania', 'Michigan']\n"
   ]
  },
  {
   "cell_type": "code",
   "execution_count": 17,
   "id": "3ef4b781-3c88-4498-871d-af1ef21682cb",
   "metadata": {},
   "outputs": [],
   "source": [
    "survey_df['Country'] = survey_df['Country'].replace(us_states, 'United States')\n"
   ]
  },
  {
   "cell_type": "code",
   "execution_count": 19,
   "id": "36ef1d7b-f979-4df5-b4ac-72feef052b2d",
   "metadata": {},
   "outputs": [],
   "source": [
    "survey_df.drop(columns=['state'], inplace=True)\n"
   ]
  },
  {
   "cell_type": "code",
   "execution_count": 21,
   "id": "380fcfb5-acf5-43d8-bfdc-2c0ffe04de30",
   "metadata": {},
   "outputs": [
    {
     "data": {
      "text/plain": [
       "Country\n",
       "United States     752\n",
       "United Kingdom    185\n",
       "Canada             72\n",
       "Germany            45\n",
       "Ireland            27\n",
       "Netherlands        27\n",
       "Australia          21\n",
       "France             13\n",
       "India              10\n",
       "New Zealand         8\n",
       "Name: count, dtype: int64"
      ]
     },
     "execution_count": 21,
     "metadata": {},
     "output_type": "execute_result"
    }
   ],
   "source": [
    "survey_df['Country'].value_counts().head(10)\n"
   ]
  },
  {
   "cell_type": "code",
   "execution_count": 23,
   "id": "e4d8eceb-54bb-4c2b-851c-23b8de8930d9",
   "metadata": {},
   "outputs": [
    {
     "name": "stderr",
     "output_type": "stream",
     "text": [
      "C:\\Users\\georg\\AppData\\Local\\Temp\\ipykernel_27608\\3749242602.py:1: FutureWarning: A value is trying to be set on a copy of a DataFrame or Series through chained assignment using an inplace method.\n",
      "The behavior will change in pandas 3.0. This inplace method will never work because the intermediate object on which we are setting values always behaves as a copy.\n",
      "\n",
      "For example, when doing 'df[col].method(value, inplace=True)', try using 'df.method({col: value}, inplace=True)' or df[col] = df[col].method(value) instead, to perform the operation inplace on the original object.\n",
      "\n",
      "\n",
      "  survey_df['work_interfere'].fillna('Unknown', inplace=True)\n"
     ]
    }
   ],
   "source": [
    "survey_df['work_interfere'].fillna('Unknown', inplace=True)\n"
   ]
  },
  {
   "cell_type": "code",
   "execution_count": 25,
   "id": "eae56a65-1025-4976-8827-8cbee30ad041",
   "metadata": {},
   "outputs": [],
   "source": [
    "survey_df['work_interfere'] = survey_df['work_interfere'].fillna('Unknown')\n"
   ]
  },
  {
   "cell_type": "code",
   "execution_count": 27,
   "id": "58aba937-3de8-4b9d-9bec-26ad5aa40ebc",
   "metadata": {},
   "outputs": [],
   "source": [
    "interfere_map = {\n",
    "    'Never': 0,\n",
    "    'Rarely': 1,\n",
    "    'Sometimes': 2,\n",
    "    'Often': 3,\n",
    "    'Unknown': -1  # sau np.nan dacă vrei să excludem din calcule\n",
    "}\n",
    "\n",
    "survey_df['work_interfere_score'] = survey_df['work_interfere'].map(interfere_map)\n"
   ]
  },
  {
   "cell_type": "code",
   "execution_count": 29,
   "id": "233c8fda-9bbc-465a-ac97-90d8605732e2",
   "metadata": {},
   "outputs": [
    {
     "data": {
      "text/plain": [
       "work_interfere_score\n",
       "-1    264\n",
       " 0    213\n",
       " 1    173\n",
       " 2    465\n",
       " 3    144\n",
       "Name: count, dtype: int64"
      ]
     },
     "execution_count": 29,
     "metadata": {},
     "output_type": "execute_result"
    }
   ],
   "source": [
    "survey_df[['work_interfere', 'work_interfere_score']].head(10)\n",
    "survey_df['work_interfere_score'].value_counts().sort_index()\n"
   ]
  },
  {
   "cell_type": "code",
   "execution_count": 31,
   "id": "bfd57871-67e8-46c4-baa1-c2c7840cb455",
   "metadata": {},
   "outputs": [
    {
     "ename": "KeyError",
     "evalue": "'diagnosed'",
     "output_type": "error",
     "traceback": [
      "\u001b[1;31m---------------------------------------------------------------------------\u001b[0m",
      "\u001b[1;31mKeyError\u001b[0m                                  Traceback (most recent call last)",
      "File \u001b[1;32mD:\\licenta\\Lib\\site-packages\\pandas\\core\\indexes\\base.py:3805\u001b[0m, in \u001b[0;36mIndex.get_loc\u001b[1;34m(self, key)\u001b[0m\n\u001b[0;32m   3804\u001b[0m \u001b[38;5;28;01mtry\u001b[39;00m:\n\u001b[1;32m-> 3805\u001b[0m     \u001b[38;5;28;01mreturn\u001b[39;00m \u001b[38;5;28mself\u001b[39m\u001b[38;5;241m.\u001b[39m_engine\u001b[38;5;241m.\u001b[39mget_loc(casted_key)\n\u001b[0;32m   3806\u001b[0m \u001b[38;5;28;01mexcept\u001b[39;00m \u001b[38;5;167;01mKeyError\u001b[39;00m \u001b[38;5;28;01mas\u001b[39;00m err:\n",
      "File \u001b[1;32mindex.pyx:167\u001b[0m, in \u001b[0;36mpandas._libs.index.IndexEngine.get_loc\u001b[1;34m()\u001b[0m\n",
      "File \u001b[1;32mindex.pyx:196\u001b[0m, in \u001b[0;36mpandas._libs.index.IndexEngine.get_loc\u001b[1;34m()\u001b[0m\n",
      "File \u001b[1;32mpandas\\\\_libs\\\\hashtable_class_helper.pxi:7081\u001b[0m, in \u001b[0;36mpandas._libs.hashtable.PyObjectHashTable.get_item\u001b[1;34m()\u001b[0m\n",
      "File \u001b[1;32mpandas\\\\_libs\\\\hashtable_class_helper.pxi:7089\u001b[0m, in \u001b[0;36mpandas._libs.hashtable.PyObjectHashTable.get_item\u001b[1;34m()\u001b[0m\n",
      "\u001b[1;31mKeyError\u001b[0m: 'diagnosed'",
      "\nThe above exception was the direct cause of the following exception:\n",
      "\u001b[1;31mKeyError\u001b[0m                                  Traceback (most recent call last)",
      "Cell \u001b[1;32mIn[31], line 1\u001b[0m\n\u001b[1;32m----> 1\u001b[0m survey_df[\u001b[38;5;124m'\u001b[39m\u001b[38;5;124mdiagnosed\u001b[39m\u001b[38;5;124m'\u001b[39m] \u001b[38;5;241m=\u001b[39m survey_df[\u001b[38;5;124m'\u001b[39m\u001b[38;5;124mdiagnosed\u001b[39m\u001b[38;5;124m'\u001b[39m]\u001b[38;5;241m.\u001b[39mstr\u001b[38;5;241m.\u001b[39mlower()\u001b[38;5;241m.\u001b[39mmap({\u001b[38;5;124m'\u001b[39m\u001b[38;5;124myes\u001b[39m\u001b[38;5;124m'\u001b[39m: \u001b[38;5;241m1\u001b[39m, \u001b[38;5;124m'\u001b[39m\u001b[38;5;124mno\u001b[39m\u001b[38;5;124m'\u001b[39m: \u001b[38;5;241m0\u001b[39m})\n",
      "File \u001b[1;32mD:\\licenta\\Lib\\site-packages\\pandas\\core\\frame.py:4102\u001b[0m, in \u001b[0;36mDataFrame.__getitem__\u001b[1;34m(self, key)\u001b[0m\n\u001b[0;32m   4100\u001b[0m \u001b[38;5;28;01mif\u001b[39;00m \u001b[38;5;28mself\u001b[39m\u001b[38;5;241m.\u001b[39mcolumns\u001b[38;5;241m.\u001b[39mnlevels \u001b[38;5;241m>\u001b[39m \u001b[38;5;241m1\u001b[39m:\n\u001b[0;32m   4101\u001b[0m     \u001b[38;5;28;01mreturn\u001b[39;00m \u001b[38;5;28mself\u001b[39m\u001b[38;5;241m.\u001b[39m_getitem_multilevel(key)\n\u001b[1;32m-> 4102\u001b[0m indexer \u001b[38;5;241m=\u001b[39m \u001b[38;5;28mself\u001b[39m\u001b[38;5;241m.\u001b[39mcolumns\u001b[38;5;241m.\u001b[39mget_loc(key)\n\u001b[0;32m   4103\u001b[0m \u001b[38;5;28;01mif\u001b[39;00m is_integer(indexer):\n\u001b[0;32m   4104\u001b[0m     indexer \u001b[38;5;241m=\u001b[39m [indexer]\n",
      "File \u001b[1;32mD:\\licenta\\Lib\\site-packages\\pandas\\core\\indexes\\base.py:3812\u001b[0m, in \u001b[0;36mIndex.get_loc\u001b[1;34m(self, key)\u001b[0m\n\u001b[0;32m   3807\u001b[0m     \u001b[38;5;28;01mif\u001b[39;00m \u001b[38;5;28misinstance\u001b[39m(casted_key, \u001b[38;5;28mslice\u001b[39m) \u001b[38;5;129;01mor\u001b[39;00m (\n\u001b[0;32m   3808\u001b[0m         \u001b[38;5;28misinstance\u001b[39m(casted_key, abc\u001b[38;5;241m.\u001b[39mIterable)\n\u001b[0;32m   3809\u001b[0m         \u001b[38;5;129;01mand\u001b[39;00m \u001b[38;5;28many\u001b[39m(\u001b[38;5;28misinstance\u001b[39m(x, \u001b[38;5;28mslice\u001b[39m) \u001b[38;5;28;01mfor\u001b[39;00m x \u001b[38;5;129;01min\u001b[39;00m casted_key)\n\u001b[0;32m   3810\u001b[0m     ):\n\u001b[0;32m   3811\u001b[0m         \u001b[38;5;28;01mraise\u001b[39;00m InvalidIndexError(key)\n\u001b[1;32m-> 3812\u001b[0m     \u001b[38;5;28;01mraise\u001b[39;00m \u001b[38;5;167;01mKeyError\u001b[39;00m(key) \u001b[38;5;28;01mfrom\u001b[39;00m \u001b[38;5;21;01merr\u001b[39;00m\n\u001b[0;32m   3813\u001b[0m \u001b[38;5;28;01mexcept\u001b[39;00m \u001b[38;5;167;01mTypeError\u001b[39;00m:\n\u001b[0;32m   3814\u001b[0m     \u001b[38;5;66;03m# If we have a listlike key, _check_indexing_error will raise\u001b[39;00m\n\u001b[0;32m   3815\u001b[0m     \u001b[38;5;66;03m#  InvalidIndexError. Otherwise we fall through and re-raise\u001b[39;00m\n\u001b[0;32m   3816\u001b[0m     \u001b[38;5;66;03m#  the TypeError.\u001b[39;00m\n\u001b[0;32m   3817\u001b[0m     \u001b[38;5;28mself\u001b[39m\u001b[38;5;241m.\u001b[39m_check_indexing_error(key)\n",
      "\u001b[1;31mKeyError\u001b[0m: 'diagnosed'"
     ]
    }
   ],
   "source": [
    "survey_df['diagnosed'] = survey_df['diagnosed'].str.lower().map({'yes': 1, 'no': 0})\n"
   ]
  },
  {
   "cell_type": "code",
   "execution_count": 33,
   "id": "67203ee2-1cd0-433c-aaae-d468628a7f73",
   "metadata": {},
   "outputs": [
    {
     "name": "stdout",
     "output_type": "stream",
     "text": [
      "['Timestamp', 'Age', 'Gender', 'Country', 'self_employed', 'family_history', 'treatment', 'work_interfere', 'no_employees', 'remote_work', 'tech_company', 'benefits', 'care_options', 'wellness_program', 'seek_help', 'anonymity', 'leave', 'mental_health_consequence', 'phys_health_consequence', 'coworkers', 'supervisor', 'mental_health_interview', 'phys_health_interview', 'mental_vs_physical', 'obs_consequence', 'work_interfere_score']\n"
     ]
    }
   ],
   "source": [
    "print(survey_df.columns.tolist())\n",
    "\n"
   ]
  },
  {
   "cell_type": "code",
   "execution_count": 35,
   "id": "bca12620-9104-419c-a9de-b994ee4b79ff",
   "metadata": {},
   "outputs": [],
   "source": [
    "survey_df['treatment'] = survey_df['treatment'].str.lower().map({'yes': 1, 'no': 0})\n"
   ]
  },
  {
   "cell_type": "code",
   "execution_count": 7,
   "id": "c9b42969-94e1-4db6-9914-227690288803",
   "metadata": {},
   "outputs": [],
   "source": [
    "survey_df['treatment'] = survey_df['treatment'].str.strip().str.lower().map({'yes': 1, 'no': 0})\n"
   ]
  },
  {
   "cell_type": "code",
   "execution_count": 9,
   "id": "d6d35bd9-1622-439d-b6ca-88b7647c7f30",
   "metadata": {},
   "outputs": [],
   "source": [
    "survey_df['self_employed'] = survey_df['self_employed'].str.strip().str.lower().map({\n",
    "    'yes': 1,\n",
    "    'no': 0\n",
    "})\n",
    "survey_df['self_employed'] = survey_df['self_employed'].fillna(-1)\n"
   ]
  },
  {
   "cell_type": "code",
   "execution_count": 11,
   "id": "d3e18518-7c10-4fa0-8ebc-39d30bd395a6",
   "metadata": {},
   "outputs": [],
   "source": [
    "survey_df['remote_work'] = survey_df['remote_work'].str.strip().str.lower().map({'yes': 1, 'no': 0})\n"
   ]
  },
  {
   "cell_type": "code",
   "execution_count": 13,
   "id": "25d0e9d7-dcc3-4f78-adc8-74f999562af6",
   "metadata": {},
   "outputs": [],
   "source": [
    "survey_df['tech_company'] = survey_df['tech_company'].str.strip().str.lower().map({'yes': 1, 'no': 0})\n"
   ]
  },
  {
   "cell_type": "code",
   "execution_count": 15,
   "id": "46d2421e-de2c-45fb-a42a-f024ca99fb77",
   "metadata": {},
   "outputs": [],
   "source": [
    "survey_df['family_history'] = survey_df['family_history'].str.strip().str.lower().map({'yes': 1, 'no': 0})\n"
   ]
  },
  {
   "cell_type": "code",
   "execution_count": 17,
   "id": "3c9d3022-6f4e-43b0-99fb-61df6a89172c",
   "metadata": {},
   "outputs": [],
   "source": [
    "survey_df['benefits'] = survey_df['benefits'].str.strip().str.lower().map({\n",
    "    'yes': 1,\n",
    "    'no': 0,\n",
    "    'don’t know': -1,\n",
    "    \"don't know\": -1  # în caz că apar ambele versiuni\n",
    "})\n"
   ]
  },
  {
   "cell_type": "code",
   "execution_count": 19,
   "id": "2893360f-f2e6-4fcf-a96b-7148d6d50849",
   "metadata": {},
   "outputs": [],
   "source": [
    "survey_df['care_options'] = survey_df['care_options'].str.strip().str.lower().map({\n",
    "    'yes': 1,\n",
    "    'no': 0,\n",
    "    'not sure': -1\n",
    "})\n"
   ]
  },
  {
   "cell_type": "code",
   "execution_count": 21,
   "id": "db39772d-dfef-4d77-8853-c643fe303458",
   "metadata": {},
   "outputs": [],
   "source": [
    "survey_df['seek_help'] = survey_df['seek_help'].str.strip().str.lower().map({\n",
    "    'yes': 1,\n",
    "    'no': 0,\n",
    "    'don’t know': -1,\n",
    "    \"don't know\": -1\n",
    "})\n"
   ]
  },
  {
   "cell_type": "code",
   "execution_count": 23,
   "id": "5c59dafd-0afb-43a9-8d52-559bd21aefc0",
   "metadata": {},
   "outputs": [],
   "source": [
    "survey_df['anonymity'] = survey_df['anonymity'].str.strip().str.lower().map({\n",
    "    'yes': 1,\n",
    "    'no': 0,\n",
    "    'don’t know': -1,\n",
    "    \"don't know\": -1\n",
    "})\n"
   ]
  },
  {
   "cell_type": "code",
   "execution_count": 25,
   "id": "c50cd6d1-bdfb-4d49-a7c2-c631fd3fa029",
   "metadata": {},
   "outputs": [],
   "source": [
    "survey_df['mental_vs_physical'] = survey_df['mental_vs_physical'].str.strip().str.lower().map({\n",
    "    'yes': 1,\n",
    "    'no': 0,\n",
    "    'don’t know': -1,\n",
    "    \"don't know\": -1\n",
    "})\n"
   ]
  },
  {
   "cell_type": "code",
   "execution_count": 27,
   "id": "a20d564a-1cae-43af-9fb4-e71a5df04bda",
   "metadata": {},
   "outputs": [],
   "source": [
    "def standardize_gender(g):\n",
    "    g = str(g).strip().lower()\n",
    "    if g in ['male', 'm', 'man', 'cis male', 'male-ish']:\n",
    "        return 'Male'\n",
    "    elif g in ['female', 'f', 'woman', 'cis female', 'femail']:\n",
    "        return 'Female'\n",
    "    else:\n",
    "        return 'Other'\n",
    "\n",
    "survey_df['gender_simplified'] = survey_df['Gender'].apply(standardize_gender)\n"
   ]
  },
  {
   "cell_type": "code",
   "execution_count": 29,
   "id": "50a67c8e-14ac-449d-8b95-c7d116f8b696",
   "metadata": {},
   "outputs": [],
   "source": [
    "leave_map = {\n",
    "    'Very easy': 3,\n",
    "    'Somewhat easy': 2,\n",
    "    'Somewhat difficult': 1,\n",
    "    'Very difficult': 0,\n",
    "    \"Don't know\": -1,\n",
    "    \"Don’t know\": -1\n",
    "}\n",
    "\n",
    "survey_df['leave_score'] = survey_df['leave'].map(leave_map)\n"
   ]
  },
  {
   "cell_type": "code",
   "execution_count": 31,
   "id": "5c1eea0d-ddc5-40f2-8eda-c70d741f427a",
   "metadata": {},
   "outputs": [],
   "source": [
    "survey_df.to_csv('survey_prelucrat.csv', index=False)\n"
   ]
  },
  {
   "cell_type": "code",
   "execution_count": null,
   "id": "4e412198-cc3e-4651-9f29-5b33f91a966d",
   "metadata": {},
   "outputs": [],
   "source": []
  }
 ],
 "metadata": {
  "kernelspec": {
   "display_name": "Python [conda env:base] *",
   "language": "python",
   "name": "conda-base-py"
  },
  "language_info": {
   "codemirror_mode": {
    "name": "ipython",
    "version": 3
   },
   "file_extension": ".py",
   "mimetype": "text/x-python",
   "name": "python",
   "nbconvert_exporter": "python",
   "pygments_lexer": "ipython3",
   "version": "3.12.7"
  }
 },
 "nbformat": 4,
 "nbformat_minor": 5
}
